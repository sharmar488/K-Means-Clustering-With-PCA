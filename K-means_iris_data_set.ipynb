{
 "cells": [
  {
   "cell_type": "code",
   "execution_count": 1,
   "id": "99d8e113",
   "metadata": {},
   "outputs": [],
   "source": [
    "import matplotlib.pyplot as plt\n",
    "import pandas as pd\n",
    "pd.set_option('display.max_columns', None)\n",
    "pd.set_option('display.max_rows', None)\n",
    "pd.set_option('display.width', None)\n",
    "import numpy as np"
   ]
  },
  {
   "cell_type": "code",
   "execution_count": 2,
   "id": "e3b8f7b1",
   "metadata": {},
   "outputs": [
    {
     "name": "stdout",
     "output_type": "stream",
     "text": [
      "      SL   SW   PL   PS\n",
      "0    5.7  4.4  1.5  0.4\n",
      "1    5.5  4.2  1.4  0.2\n",
      "2    5.2  4.1  1.5  0.1\n",
      "3    5.8  4.0  1.2  0.2\n",
      "4    5.4  3.9  1.7  0.4\n",
      "5    5.4  3.9  1.3  0.4\n",
      "6    7.7  3.8  6.7  2.2\n",
      "7    7.9  3.8  6.4  2.0\n",
      "8    5.1  3.8  1.9  0.4\n",
      "9    5.7  3.8  1.7  0.3\n",
      "10   5.1  3.8  1.6  0.2\n",
      "11   5.1  3.8  1.5  0.3\n",
      "12   5.1  3.7  1.5  0.4\n",
      "13   5.4  3.7  1.5  0.2\n",
      "14   5.3  3.7  1.5  0.2\n",
      "15   7.2  3.6  6.1  2.5\n",
      "16   5.0  3.6  1.4  0.2\n",
      "17   4.6  3.6  1.0  0.2\n",
      "18   5.0  3.5  1.6  0.6\n",
      "19   5.2  3.5  1.5  0.2\n",
      "20   5.1  3.5  1.4  0.3\n",
      "21   5.1  3.5  1.4  0.2\n",
      "22   5.0  3.5  1.3  0.3\n",
      "23   5.5  3.5  1.3  0.2\n",
      "24   6.3  3.4  5.6  2.4\n",
      "25   6.2  3.4  5.4  2.3\n",
      "26   6.0  3.4  4.5  1.6\n",
      "27   4.8  3.4  1.9  0.2\n",
      "28   5.4  3.4  1.7  0.2\n",
      "29   5.0  3.4  1.6  0.4\n",
      "30   4.8  3.4  1.6  0.2\n",
      "31   5.4  3.4  1.5  0.4\n",
      "32   5.1  3.4  1.5  0.2\n",
      "33   5.0  3.4  1.5  0.2\n",
      "34   4.6  3.4  1.4  0.3\n",
      "35   5.2  3.4  1.4  0.2\n",
      "36   6.3  3.3  6.0  2.5\n",
      "37   6.7  3.3  5.7  2.5\n",
      "38   6.7  3.3  5.7  2.1\n",
      "39   6.3  3.3  4.7  1.6\n",
      "40   5.1  3.3  1.7  0.5\n",
      "41   5.0  3.3  1.4  0.2\n",
      "42   7.2  3.2  6.0  1.8\n",
      "43   6.8  3.2  5.9  2.3\n",
      "44   6.9  3.2  5.7  2.3\n",
      "45   6.4  3.2  5.3  2.3\n",
      "46   6.5  3.2  5.1  2.0\n",
      "47   5.9  3.2  4.8  1.8\n",
      "48   7.0  3.2  4.7  1.4\n",
      "49   6.4  3.2  4.5  1.5\n",
      "50   4.7  3.2  1.6  0.2\n",
      "51   4.6  3.2  1.4  0.2\n",
      "52   4.7  3.2  1.3  0.2\n",
      "53   4.4  3.2  1.3  0.2\n",
      "54   5.0  3.2  1.2  0.2\n",
      "55   6.7  3.1  5.6  2.4\n",
      "56   6.4  3.1  5.5  1.8\n",
      "57   6.9  3.1  5.4  2.1\n",
      "58   6.9  3.1  5.1  2.3\n",
      "59   6.9  3.1  4.9  1.5\n",
      "60   6.7  3.1  4.7  1.5\n",
      "61   6.7  3.1  4.4  1.4\n",
      "62   4.8  3.1  1.6  0.2\n",
      "63   4.6  3.1  1.5  0.2\n",
      "64   4.9  3.1  1.5  0.1\n",
      "65   4.9  3.1  1.5  0.1\n",
      "66   4.9  3.1  1.5  0.1\n",
      "67   7.6  3.0  6.6  2.1\n",
      "68   7.7  3.0  6.1  2.3\n",
      "69   7.1  3.0  5.9  2.1\n",
      "70   6.5  3.0  5.8  2.2\n",
      "71   7.2  3.0  5.8  1.6\n",
      "72   6.8  3.0  5.5  2.1\n",
      "73   6.5  3.0  5.5  1.8\n",
      "74   6.7  3.0  5.2  2.3\n",
      "75   6.5  3.0  5.2  2.0\n",
      "76   5.9  3.0  5.1  1.8\n",
      "77   6.7  3.0  5.0  1.7\n",
      "78   6.1  3.0  4.9  1.8\n",
      "79   6.0  3.0  4.8  1.8\n",
      "80   6.1  3.0  4.6  1.4\n",
      "81   5.6  3.0  4.5  1.5\n",
      "82   5.4  3.0  4.5  1.5\n",
      "83   6.6  3.0  4.4  1.4\n",
      "84   5.9  3.0  4.2  1.5\n",
      "85   5.7  3.0  4.2  1.2\n",
      "86   5.6  3.0  4.1  1.3\n",
      "87   5.0  3.0  1.6  0.2\n",
      "88   4.8  3.0  1.4  0.3\n",
      "89   4.9  3.0  1.4  0.2\n",
      "90   4.8  3.0  1.4  0.1\n",
      "91   4.4  3.0  1.3  0.2\n",
      "92   4.3  3.0  1.1  0.1\n",
      "93   7.3  2.9  6.3  1.8\n",
      "94   6.3  2.9  5.6  1.8\n",
      "95   6.1  2.9  4.7  1.4\n",
      "96   6.6  2.9  4.6  1.3\n",
      "97   6.0  2.9  4.5  1.5\n",
      "98   6.4  2.9  4.3  1.3\n",
      "99   6.2  2.9  4.3  1.3\n",
      "100  5.7  2.9  4.2  1.3\n",
      "101  5.6  2.9  3.6  1.3\n",
      "102  4.4  2.9  1.4  0.2\n",
      "103  7.7  2.8  6.7  2.0\n",
      "104  7.4  2.8  6.1  1.9\n",
      "105  6.4  2.8  5.6  2.2\n",
      "106  6.4  2.8  5.6  2.1\n",
      "107  5.8  2.8  5.1  2.4\n",
      "108  6.3  2.8  5.1  1.5\n",
      "109  5.6  2.8  4.9  2.0\n",
      "110  6.2  2.8  4.8  1.8\n",
      "111  6.8  2.8  4.8  1.4\n",
      "112  6.1  2.8  4.7  1.2\n",
      "113  6.5  2.8  4.6  1.5\n",
      "114  5.7  2.8  4.5  1.3\n",
      "115  5.7  2.8  4.1  1.3\n",
      "116  6.1  2.8  4.0  1.3\n",
      "117  6.4  2.7  5.3  1.9\n",
      "118  5.8  2.7  5.1  1.9\n",
      "119  5.8  2.7  5.1  1.9\n",
      "120  6.0  2.7  5.1  1.6\n",
      "121  6.3  2.7  4.9  1.8\n",
      "122  5.6  2.7  4.2  1.3\n",
      "123  5.8  2.7  4.1  1.0\n",
      "124  5.2  2.7  3.9  1.4\n",
      "125  5.8  2.7  3.9  1.2\n",
      "126  7.7  2.6  6.9  2.3\n",
      "127  6.1  2.6  5.6  1.4\n",
      "128  5.5  2.6  4.4  1.2\n",
      "129  5.8  2.6  4.0  1.2\n",
      "130  5.7  2.6  3.5  1.0\n",
      "131  6.7  2.5  5.8  1.8\n",
      "132  5.7  2.5  5.0  2.0\n",
      "133  6.3  2.5  5.0  1.9\n",
      "134  6.3  2.5  4.9  1.5\n",
      "135  4.9  2.5  4.5  1.7\n",
      "136  5.5  2.5  4.0  1.3\n",
      "137  5.6  2.5  3.9  1.1\n",
      "138  5.1  2.5  3.0  1.1\n",
      "139  5.5  2.4  3.8  1.1\n",
      "140  5.5  2.4  3.7  1.0\n",
      "141  4.9  2.4  3.3  1.0\n",
      "142  6.3  2.3  4.4  1.3\n",
      "143  5.5  2.3  4.0  1.3\n",
      "144  5.0  2.3  3.3  1.0\n",
      "145  4.5  2.3  1.3  0.3\n",
      "146  6.0  2.2  5.0  1.5\n",
      "147  6.2  2.2  4.5  1.5\n",
      "148  6.0  2.2  4.0  1.0\n",
      "149  5.0  2.0  3.5  1.0\n"
     ]
    }
   ],
   "source": [
    "Test_data = pd.read_table(\"Test_Iris.txt\",sep=\" \", header=None,names=[\"SL\",\"SW\",\"PL\",\"PS\"])\n",
    "print(Test_data)\n"
   ]
  },
  {
   "cell_type": "code",
   "execution_count": 3,
   "id": "fef61864",
   "metadata": {},
   "outputs": [],
   "source": [
    "from scipy.spatial.distance import cdist\n",
    "\n",
    "def k_means(Test_data, K):\n",
    "#Keep track of history so you can see K-means in action\n",
    "    np.random.seed(35)\n",
    "    centroids_history = []\n",
    "    rand_index = np.random.choice(Test_data.shape[0], K)  \n",
    "    centroids = Test_data[rand_index]\n",
    "    centroids_history.append(centroids)\n",
    "    while True:\n",
    "        # Euclidean distances are calculated for each point relative to centroids, and then np.argmin returns\n",
    "        # the index location of the minimal distance - which cluster a point is assigned to\n",
    "        labels = np.argmin(cdist(Test_data, centroids,'seuclidean'), axis=1)\n",
    "        \n",
    "        #Take mean of points within clusters to find new centroids:\n",
    "        new_centroids = np.array([Test_data[labels == i].mean(axis=0) for i in range(K)])\n",
    "        \n",
    "        \n",
    "        # If old centroids and new centroids are same then it breaks, Otherwise continue\n",
    "        if np.all(centroids == new_centroids):\n",
    "            break\n",
    "        centroids = new_centroids\n",
    "    \n",
    "    return centroids, labels"
   ]
  },
  {
   "cell_type": "code",
   "execution_count": 4,
   "id": "d16ef5b0",
   "metadata": {},
   "outputs": [],
   "source": [
    "X_matrix = Test_data.values"
   ]
  },
  {
   "cell_type": "code",
   "execution_count": 5,
   "id": "b1c9a2a9",
   "metadata": {},
   "outputs": [],
   "source": [
    "centroids, labels = k_means(X_matrix, 3)"
   ]
  },
  {
   "cell_type": "code",
   "execution_count": 6,
   "id": "fb6e589f",
   "metadata": {},
   "outputs": [
    {
     "name": "stdout",
     "output_type": "stream",
     "text": [
      "[1 1 1 1 1 1 0 0 1 1 1 1 1 1 1 0 1 1 1 1 1 1 1 1 0 0 0 1 1 1 1 1 1 1 1 1 0\n",
      " 0 0 0 1 1 0 0 0 0 0 0 0 0 1 1 1 1 1 0 0 0 0 0 0 0 1 1 1 1 1 0 0 0 0 0 0 0\n",
      " 0 0 2 0 2 2 2 2 2 0 2 2 2 1 1 1 1 1 1 0 0 2 2 2 2 2 2 2 1 0 0 0 0 2 2 2 2\n",
      " 0 2 2 2 2 2 2 2 2 2 2 2 2 2 2 0 2 2 2 2 2 2 2 2 2 2 2 2 2 2 2 2 2 2 1 2 2\n",
      " 2 2]\n"
     ]
    }
   ],
   "source": [
    "print(labels)\n",
    "with open(\"output5.txt\", \"w\") as out_file:\n",
    "    for element in labels:\n",
    "        print(element,file=out_file)"
   ]
  },
  {
   "cell_type": "code",
   "execution_count": 7,
   "id": "3a6fd90c",
   "metadata": {},
   "outputs": [
    {
     "data": {
      "image/png": "[encoded data removed]",
      "text/plain": [
       "<Figure size 432x288 with 1 Axes>"
      ]
     },
     "metadata": {
      "needs_background": "light"
     },
     "output_type": "display_data"
    }
   ],
   "source": [
    "plt.scatter(Test_data['SL'], Test_data['SW'], c=labels, cmap='viridis')\n",
    "plt.scatter(centroids[:,0], centroids[:,1], c=\"Red\",s=70,marker=\"^\", cmap='viridis')\n",
    "plt.title('Iris - Sepal Length vs Sepal Width - Clustered')\n",
    "plt.show()"
   ]
  },
  {
   "cell_type": "code",
   "execution_count": null,
   "id": "32e61834",
   "metadata": {},
   "outputs": [],
   "source": []
  }
 ],
 "metadata": {
  "kernelspec": {
   "display_name": "Python 3 (ipykernel)",
   "language": "python",
   "name": "python3"
  },
  "language_info": {
   "codemirror_mode": {
    "name": "ipython",
    "version": 3
   },
   "file_extension": ".py",
   "mimetype": "text/x-python",
   "name": "python",
   "nbconvert_exporter": "python",
   "pygments_lexer": "ipython3",
   "version": "3.9.7"
  }
 },
 "nbformat": 4,
 "nbformat_minor": 5
}
